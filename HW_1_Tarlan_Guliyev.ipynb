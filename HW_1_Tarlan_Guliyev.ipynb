{
  "nbformat": 4,
  "nbformat_minor": 0,
  "metadata": {
    "colab": {
      "name": "HW 1 Tarlan Guliyev.ipynb",
      "provenance": [],
      "collapsed_sections": []
    },
    "kernelspec": {
      "name": "python3",
      "display_name": "Python 3"
    },
    "language_info": {
      "name": "python"
    }
  },
  "cells": [
    {
      "cell_type": "code",
      "execution_count": null,
      "metadata": {
        "colab": {
          "base_uri": "https://localhost:8080/"
        },
        "id": "HkjgO9KIC_bA",
        "outputId": "7d6fdf43-54d1-4757-a631-51e6056dc97b"
      },
      "outputs": [
        {
          "output_type": "stream",
          "name": "stdout",
          "text": [
            "What's your name?Tarlan\n",
            "What's your age?21\n",
            "Your name is  Tarlan . Your age is 21\n"
          ]
        }
      ],
      "source": [
        "name = input(\"What's your name?\")\n",
        "age = int (input(\"What's your age?\"))\n",
        "print(\"Your name is \",name,\". Your age is\",age)"
      ]
    },
    {
      "cell_type": "code",
      "source": [
        "a = 43\n",
        "b = 54\n",
        "if(a==b):\n",
        "  print(\"Numbers a and b are equal\")\n",
        "else:\n",
        "  print(\"Numbers a and b are not equal\")"
      ],
      "metadata": {
        "colab": {
          "base_uri": "https://localhost:8080/"
        },
        "id": "KlVC6LA9IZT8",
        "outputId": "3a5d8bd0-09a9-4096-9718-5c4d215f3dac"
      },
      "execution_count": null,
      "outputs": [
        {
          "output_type": "stream",
          "name": "stdout",
          "text": [
            "Numbers a and b are not equal\n"
          ]
        }
      ]
    },
    {
      "cell_type": "code",
      "source": [
        "a = 43\n",
        "b = 54\n",
        "if(a>b):\n",
        "  print(\"Number a is greater than b\")\n",
        "elif(a==b):\n",
        "  print(\"Number a and b are equal\")\n",
        "else:\n",
        "  print(\"Number a is less than b\")"
      ],
      "metadata": {
        "colab": {
          "base_uri": "https://localhost:8080/"
        },
        "id": "APMrF8g3NSkF",
        "outputId": "47a792aa-db37-4488-c582-0e7dc87cb563"
      },
      "execution_count": null,
      "outputs": [
        {
          "output_type": "stream",
          "name": "stdout",
          "text": [
            "Number a is less than b\n"
          ]
        }
      ]
    },
    {
      "cell_type": "code",
      "source": [
        "for k in range(1,6):\n",
        "  print(k)"
      ],
      "metadata": {
        "colab": {
          "base_uri": "https://localhost:8080/"
        },
        "id": "DAF8DRgdNp2X",
        "outputId": "c78a4709-5e2f-45be-b1e1-a877e1891dc8"
      },
      "execution_count": null,
      "outputs": [
        {
          "output_type": "stream",
          "name": "stdout",
          "text": [
            "1\n",
            "2\n",
            "3\n",
            "4\n",
            "5\n"
          ]
        }
      ]
    },
    {
      "cell_type": "code",
      "source": [
        "for k in range(5,0,-1):\n",
        "  print(k)"
      ],
      "metadata": {
        "colab": {
          "base_uri": "https://localhost:8080/"
        },
        "id": "KrubO-n6OG5V",
        "outputId": "192dbdb8-b600-4f4b-9cb0-bb5c57c751c8"
      },
      "execution_count": null,
      "outputs": [
        {
          "output_type": "stream",
          "name": "stdout",
          "text": [
            "5\n",
            "4\n",
            "3\n",
            "2\n",
            "1\n"
          ]
        }
      ]
    },
    {
      "cell_type": "code",
      "source": [
        "for k in range(10,-1,-2):\n",
        "  if k!= 8:\n",
        "    print(k)\n",
        "  "
      ],
      "metadata": {
        "colab": {
          "base_uri": "https://localhost:8080/"
        },
        "id": "r0M8L2JUOVca",
        "outputId": "1715f2fd-6ba6-4935-c76b-bd44d3257dd5"
      },
      "execution_count": null,
      "outputs": [
        {
          "output_type": "stream",
          "name": "stdout",
          "text": [
            "10\n",
            "6\n",
            "4\n",
            "2\n",
            "0\n"
          ]
        }
      ]
    }
  ]
}